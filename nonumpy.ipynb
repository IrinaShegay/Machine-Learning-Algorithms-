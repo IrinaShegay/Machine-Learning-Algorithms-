{
 "cells": [
  {
   "cell_type": "code",
   "execution_count": 6,
   "id": "4990f760",
   "metadata": {},
   "outputs": [],
   "source": [
    "data = [(1, 2), (2, 3), (3, 4), (4, 5), (5, 6)]\n",
    "x = [point[0] for point in data]\n",
    "y = [point[1] for point in data]"
   ]
  },
  {
   "cell_type": "code",
   "execution_count": 7,
   "id": "3943433b",
   "metadata": {},
   "outputs": [],
   "source": [
    "def mean(data):\n",
    "    return sum(data) / len(data)\n"
   ]
  },
  {
   "cell_type": "code",
   "execution_count": 8,
   "id": "c7dee4b6",
   "metadata": {},
   "outputs": [],
   "source": [
    "def covariance(x, y):\n",
    "    n = len(x)\n",
    "    x_mean = mean(x)\n",
    "    y_mean = mean(y)\n",
    "    covariance = sum((x[i] - x_mean) * (y[i] - y_mean) for i in range(n)) / (n-1)\n",
    "    return covariance"
   ]
  },
  {
   "cell_type": "code",
   "execution_count": 9,
   "id": "51c8c5dd",
   "metadata": {},
   "outputs": [],
   "source": [
    "def pearson_correlation(x, y):\n",
    "    covariance_xy = covariance(x, y)\n",
    "    standard_deviation_x = (sum((xi - mean(x)) ** 2 for xi in x) / (len(x) - 1)) ** 0.5\n",
    "    standard_deviation_y = (sum((yi - mean(y)) ** 2 for yi in y) / (len(y) - 1)) ** 0.5\n",
    "    pearson_correlation = covariance_xy / (standard_deviation_x * standard_deviation_y)\n",
    "    return pearson_correlation"
   ]
  },
  {
   "cell_type": "code",
   "execution_count": 10,
   "id": "891afafc",
   "metadata": {},
   "outputs": [
    {
     "name": "stdout",
     "output_type": "stream",
     "text": [
      "correlation coefficient: 0.9999999999999998\n"
     ]
    }
   ],
   "source": [
    "correlation = pearson_correlation(x, y)\n",
    "print(\"correlation coefficient:\", correlation)"
   ]
  },
  {
   "cell_type": "code",
   "execution_count": null,
   "id": "328f3d5b",
   "metadata": {},
   "outputs": [],
   "source": []
  }
 ],
 "metadata": {
  "kernelspec": {
   "display_name": "Python 3 (ipykernel)",
   "language": "python",
   "name": "python3"
  },
  "language_info": {
   "codemirror_mode": {
    "name": "ipython",
    "version": 3
   },
   "file_extension": ".py",
   "mimetype": "text/x-python",
   "name": "python",
   "nbconvert_exporter": "python",
   "pygments_lexer": "ipython3",
   "version": "3.9.13"
  }
 },
 "nbformat": 4,
 "nbformat_minor": 5
}
